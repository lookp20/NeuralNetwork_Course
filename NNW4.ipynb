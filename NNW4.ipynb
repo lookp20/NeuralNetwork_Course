{
  "nbformat": 4,
  "nbformat_minor": 0,
  "metadata": {
    "language_info": {
      "codemirror_mode": {
        "name": "ipython",
        "version": 3
      },
      "file_extension": ".py",
      "mimetype": "text/x-python",
      "name": "python",
      "nbconvert_exporter": "python",
      "pygments_lexer": "ipython3",
      "version": "3.8.5"
    },
    "orig_nbformat": 2,
    "kernelspec": {
      "name": "python3",
      "display_name": "Python 3.8.5 64-bit ('base': conda)",
      "metadata": {
        "interpreter": {
          "hash": "6071e28a906ee3066aa7ef471fe6faf58a6aaa6a0473010f9d3f54552e0e7ff7"
        }
      }
    },
    "colab": {
      "name": "NNW4.ipynb",
      "provenance": []
    }
  },
  "cells": [
    {
      "cell_type": "code",
      "metadata": {
        "id": "7TluZw8V3grh"
      },
      "source": [
        "import numpy as np \n",
        "import seaborn as sns\n",
        "import matplotlib.pyplot as plt\n",
        "import math"
      ],
      "execution_count": 97,
      "outputs": []
    },
    {
      "cell_type": "code",
      "metadata": {
        "id": "mxvVZ4wq3grj"
      },
      "source": [
        "# 1a)\n",
        "data = np.load(\"mnistspezial1.npz\")\n",
        "X = data.f.X\n",
        "T = data.f.T"
      ],
      "execution_count": 98,
      "outputs": []
    },
    {
      "cell_type": "code",
      "metadata": {
        "colab": {
          "base_uri": "https://localhost:8080/"
        },
        "id": "866hmgxr3grj",
        "outputId": "67e42910-4747-4b4a-c302-721bc0dadc4c"
      },
      "source": [
        "#1b)\n",
        "X.shape"
      ],
      "execution_count": 99,
      "outputs": [
        {
          "output_type": "execute_result",
          "data": {
            "text/plain": [
              "(3000, 28, 28)"
            ]
          },
          "metadata": {
            "tags": []
          },
          "execution_count": 99
        }
      ]
    },
    {
      "cell_type": "code",
      "metadata": {
        "colab": {
          "base_uri": "https://localhost:8080/"
        },
        "id": "_xIDPIGk3grk",
        "outputId": "986d7fe6-122a-4152-85bd-fee27891badb"
      },
      "source": [
        "#1b)\n",
        "T.shape"
      ],
      "execution_count": 100,
      "outputs": [
        {
          "output_type": "execute_result",
          "data": {
            "text/plain": [
              "(3000,)"
            ]
          },
          "metadata": {
            "tags": []
          },
          "execution_count": 100
        }
      ]
    },
    {
      "cell_type": "code",
      "metadata": {
        "colab": {
          "base_uri": "https://localhost:8080/",
          "height": 352
        },
        "id": "bt1wBDXf3grl",
        "outputId": "b20b5949-d556-49bd-d9b1-8a74963c177f"
      },
      "source": [
        "#1c)\n",
        "plt.title(\"Alle Daten\")\n",
        "sns.countplot(T)"
      ],
      "execution_count": 101,
      "outputs": [
        {
          "output_type": "stream",
          "text": [
            "/usr/local/lib/python3.7/dist-packages/seaborn/_decorators.py:43: FutureWarning: Pass the following variable as a keyword arg: x. From version 0.12, the only valid positional argument will be `data`, and passing other arguments without an explicit keyword will result in an error or misinterpretation.\n",
            "  FutureWarning\n"
          ],
          "name": "stderr"
        },
        {
          "output_type": "execute_result",
          "data": {
            "text/plain": [
              "<matplotlib.axes._subplots.AxesSubplot at 0x7fc69aea1d10>"
            ]
          },
          "metadata": {
            "tags": []
          },
          "execution_count": 101
        },
        {
          "output_type": "display_data",
          "data": {
            "image/png": "[encoded data removed]",
            "text/plain": [
              "<Figure size 432x288 with 1 Axes>"
            ]
          },
          "metadata": {
            "tags": [],
            "needs_background": "light"
          }
        }
      ]
    },
    {
      "cell_type": "code",
      "metadata": {
        "id": "DVi_KIBP3grl"
      },
      "source": [
        "#1d)\n",
        "values, counts = np.unique(T, return_counts=True)"
      ],
      "execution_count": 102,
      "outputs": []
    },
    {
      "cell_type": "code",
      "metadata": {
        "colab": {
          "base_uri": "https://localhost:8080/"
        },
        "id": "YVbVZ0bL3grm",
        "outputId": "29022db6-2403-4c70-c4c8-d907ac0b0d9e"
      },
      "source": [
        "values"
      ],
      "execution_count": 103,
      "outputs": [
        {
          "output_type": "execute_result",
          "data": {
            "text/plain": [
              "array([0, 1, 2, 3, 4, 5, 6, 7, 8, 9], dtype=uint8)"
            ]
          },
          "metadata": {
            "tags": []
          },
          "execution_count": 103
        }
      ]
    },
    {
      "cell_type": "code",
      "metadata": {
        "colab": {
          "base_uri": "https://localhost:8080/"
        },
        "id": "k-1QXVW13grm",
        "outputId": "8f59d531-a82f-4a73-c8b4-4ddf78e10d6c"
      },
      "source": [
        "counts"
      ],
      "execution_count": 104,
      "outputs": [
        {
          "output_type": "execute_result",
          "data": {
            "text/plain": [
              "array([191, 426, 305, 205,  55, 248, 191, 203, 335, 841])"
            ]
          },
          "metadata": {
            "tags": []
          },
          "execution_count": 104
        }
      ]
    },
    {
      "cell_type": "code",
      "metadata": {
        "colab": {
          "base_uri": "https://localhost:8080/"
        },
        "id": "wyY5CaFs3grm",
        "outputId": "d862f394-9cc1-467e-c044-fa24d96c48a9"
      },
      "source": [
        "#1e)\n",
        "T = np.where(T != 9, 0, 1)\n",
        "np.unique(T)"
      ],
      "execution_count": 105,
      "outputs": [
        {
          "output_type": "execute_result",
          "data": {
            "text/plain": [
              "array([0, 1])"
            ]
          },
          "metadata": {
            "tags": []
          },
          "execution_count": 105
        }
      ]
    },
    {
      "cell_type": "code",
      "metadata": {
        "colab": {
          "base_uri": "https://localhost:8080/"
        },
        "id": "t8mRflUx3grn",
        "outputId": "97649f6f-884a-4925-85b6-832e49cda8a7"
      },
      "source": [
        "values, counts = np.unique(T, return_counts=True)\n",
        "counts"
      ],
      "execution_count": 106,
      "outputs": [
        {
          "output_type": "execute_result",
          "data": {
            "text/plain": [
              "array([2159,  841])"
            ]
          },
          "metadata": {
            "tags": []
          },
          "execution_count": 106
        }
      ]
    },
    {
      "cell_type": "code",
      "metadata": {
        "colab": {
          "base_uri": "https://localhost:8080/",
          "height": 352
        },
        "id": "N7cat12h3grn",
        "outputId": "64605b3b-ba8e-422a-90de-0f7e9b943060"
      },
      "source": [
        "#1f)\n",
        "plt.title(\"Zwei Klassen\")\n",
        "sns.countplot(T)"
      ],
      "execution_count": 107,
      "outputs": [
        {
          "output_type": "stream",
          "text": [
            "/usr/local/lib/python3.7/dist-packages/seaborn/_decorators.py:43: FutureWarning: Pass the following variable as a keyword arg: x. From version 0.12, the only valid positional argument will be `data`, and passing other arguments without an explicit keyword will result in an error or misinterpretation.\n",
            "  FutureWarning\n"
          ],
          "name": "stderr"
        },
        {
          "output_type": "execute_result",
          "data": {
            "text/plain": [
              "<matplotlib.axes._subplots.AxesSubplot at 0x7fc69adb8510>"
            ]
          },
          "metadata": {
            "tags": []
          },
          "execution_count": 107
        },
        {
          "output_type": "display_data",
          "data": {
            "image/png": "[encoded data removed]",
            "text/plain": [
              "<Figure size 432x288 with 1 Axes>"
            ]
          },
          "metadata": {
            "tags": [],
            "needs_background": "light"
          }
        }
      ]
    },
    {
      "cell_type": "code",
      "metadata": {
        "colab": {
          "base_uri": "https://localhost:8080/"
        },
        "id": "0yoT71bK3gro",
        "outputId": "d3d2fd01-d7e0-4c63-a323-97b29e25cd7e"
      },
      "source": [
        "#1g)\n",
        "N_gesamt = T.shape[0]\n",
        "print(N_gesamt)"
      ],
      "execution_count": 108,
      "outputs": [
        {
          "output_type": "stream",
          "text": [
            "3000\n"
          ],
          "name": "stdout"
        }
      ]
    },
    {
      "cell_type": "code",
      "metadata": {
        "colab": {
          "base_uri": "https://localhost:8080/"
        },
        "id": "EG_bQ4hB3gro",
        "outputId": "eb6b4d0d-9b39-4268-b305-f772e6c9cf0f"
      },
      "source": [
        "n_train = math.floor(N_gesamt*0.63)\n",
        "print(n_train)"
      ],
      "execution_count": 109,
      "outputs": [
        {
          "output_type": "stream",
          "text": [
            "1890\n"
          ],
          "name": "stdout"
        }
      ]
    },
    {
      "cell_type": "code",
      "metadata": {
        "colab": {
          "base_uri": "https://localhost:8080/"
        },
        "id": "87ETlLU33grp",
        "outputId": "58e538fe-3c93-433d-a6ff-cddf38de0ec8"
      },
      "source": [
        "n_val = math.floor(N_gesamt*0.17)\n",
        "print(n_val)"
      ],
      "execution_count": 110,
      "outputs": [
        {
          "output_type": "stream",
          "text": [
            "510\n"
          ],
          "name": "stdout"
        }
      ]
    },
    {
      "cell_type": "code",
      "metadata": {
        "colab": {
          "base_uri": "https://localhost:8080/"
        },
        "id": "gCq9djCs3grp",
        "outputId": "42fc294a-0b27-444f-f35b-5a9f610b611e"
      },
      "source": [
        "n_test = math.floor(N_gesamt*0.20)\n",
        "print(n_test)"
      ],
      "execution_count": 111,
      "outputs": [
        {
          "output_type": "stream",
          "text": [
            "600\n"
          ],
          "name": "stdout"
        }
      ]
    },
    {
      "cell_type": "code",
      "metadata": {
        "id": "TIYZ6-yZ3grp"
      },
      "source": [
        "#1h)\n",
        "from keras.models import Sequential\n",
        "from keras.layers import Dense, Flatten"
      ],
      "execution_count": 112,
      "outputs": []
    },
    {
      "cell_type": "code",
      "metadata": {
        "colab": {
          "base_uri": "https://localhost:8080/"
        },
        "id": "0wGY4vKI4R4e",
        "outputId": "963bee4f-c111-46ec-990e-37b18ef4a8d1"
      },
      "source": [
        "#1i)\n",
        "model = Sequential()\n",
        "model.add(Flatten())\n",
        "model.add(Dense(1,input_shape=(784,), activation='sigmoid'))\n",
        "\n",
        "model.compile(optimizer='sgd',loss='binary_crossentropy', metrics=[\"accuracy\"])\n",
        "\n",
        "#model.save_weights('modelinit.h5')\n",
        "#model.load_weights('modelinit.h5')\n",
        "\n",
        "hist = model.fit(X[:n_train], T[:n_train],epochs=10,validation_data=(X[n_train:n_train + n_val], T[n_train:n_train + n_val]))"
      ],
      "execution_count": 113,
      "outputs": [
        {
          "output_type": "stream",
          "text": [
            "Epoch 1/10\n",
            "60/60 [==============================] - 1s 4ms/step - loss: 22.1374 - accuracy: 0.9590 - val_loss: 2687.5605 - val_accuracy: 0.0000e+00\n",
            "Epoch 2/10\n",
            "60/60 [==============================] - 0s 2ms/step - loss: 7.6085 - accuracy: 0.9932 - val_loss: 1796.2653 - val_accuracy: 0.0000e+00\n",
            "Epoch 3/10\n",
            "60/60 [==============================] - 0s 2ms/step - loss: 2.5591 - accuracy: 0.9960 - val_loss: 687.4319 - val_accuracy: 0.1686\n",
            "Epoch 4/10\n",
            "60/60 [==============================] - 0s 2ms/step - loss: 2.7148 - accuracy: 0.9946 - val_loss: 961.7004 - val_accuracy: 0.1020\n",
            "Epoch 5/10\n",
            "60/60 [==============================] - 0s 2ms/step - loss: 2.2804 - accuracy: 0.9911 - val_loss: 260.3410 - val_accuracy: 0.6863\n",
            "Epoch 6/10\n",
            "60/60 [==============================] - 0s 2ms/step - loss: 2.8194 - accuracy: 0.9916 - val_loss: 1967.9182 - val_accuracy: 0.0020\n",
            "Epoch 7/10\n",
            "60/60 [==============================] - 0s 2ms/step - loss: 1.4134 - accuracy: 0.9977 - val_loss: 630.7509 - val_accuracy: 0.3020\n",
            "Epoch 8/10\n",
            "60/60 [==============================] - 0s 2ms/step - loss: 0.4991 - accuracy: 0.9972 - val_loss: 598.1602 - val_accuracy: 0.3373\n",
            "Epoch 9/10\n",
            "60/60 [==============================] - 0s 2ms/step - loss: 0.3814 - accuracy: 0.9972 - val_loss: 1339.9828 - val_accuracy: 0.0490\n",
            "Epoch 10/10\n",
            "60/60 [==============================] - 0s 2ms/step - loss: 0.5594 - accuracy: 0.9972 - val_loss: 1014.2465 - val_accuracy: 0.1549\n"
          ],
          "name": "stdout"
        }
      ]
    },
    {
      "cell_type": "code",
      "metadata": {
        "colab": {
          "base_uri": "https://localhost:8080/",
          "height": 308
        },
        "id": "DThJaCeg8xRm",
        "outputId": "8d6beadc-ada3-41a4-931d-36b485229e57"
      },
      "source": [
        "#1j)\n",
        "losses = hist.history['loss']\n",
        "accs = hist.history['accuracy']\n",
        "\n",
        "# Plot history of loss and accuracy\n",
        "fig, axs = plt.subplots(2)\n",
        "fig.suptitle('Model Loss and Accuracy')\n",
        "axs[0].plot(losses)\n",
        "axs[0].set(xlabel='Epoch', ylabel='Loss')\n",
        "axs[1].plot(accs)\n",
        "axs[1].set(xlabel='Epoch', ylabel='Accuracy')\n",
        "plt.show()\n"
      ],
      "execution_count": 114,
      "outputs": [
        {
          "output_type": "display_data",
          "data": {
            "image/png": "[encoded data removed]",
            "text/plain": [
              "<Figure size 432x288 with 2 Axes>"
            ]
          },
          "metadata": {
            "tags": [],
            "needs_background": "light"
          }
        }
      ]
    },
    {
      "cell_type": "code",
      "metadata": {
        "colab": {
          "base_uri": "https://localhost:8080/",
          "height": 295
        },
        "id": "236uDXru9uD6",
        "outputId": "bf2df313-75ef-4acf-c420-1001883ed93d"
      },
      "source": [
        "# Plot train vs test accuracy per epoch\n",
        "plt.figure()\n",
        "# Use the history metrics\n",
        "plt.plot(hist.history['accuracy'])\n",
        "plt.plot(hist.history['val_accuracy'])\n",
        "# Make it pretty\n",
        "plt.title('Model accuracy')\n",
        "plt.ylabel('Accuracy')\n",
        "plt.xlabel('Epoch')\n",
        "plt.legend(['Train', 'Val'])\n",
        "plt.show()"
      ],
      "execution_count": 115,
      "outputs": [
        {
          "output_type": "display_data",
          "data": {
            "image/png": "[encoded data removed]",
            "text/plain": [
              "<Figure size 432x288 with 1 Axes>"
            ]
          },
          "metadata": {
            "tags": [],
            "needs_background": "light"
          }
        }
      ]
    },
    {
      "cell_type": "code",
      "metadata": {
        "colab": {
          "base_uri": "https://localhost:8080/",
          "height": 295
        },
        "id": "lW4sBPrz94AX",
        "outputId": "46fdfd51-68c3-4301-9b2e-2a58e2d567c5"
      },
      "source": [
        "# Plot train vs test accuracy per epoch\n",
        "plt.figure()\n",
        "# Use the history metrics\n",
        "plt.plot(hist.history['loss'])\n",
        "plt.plot(hist.history['val_loss'])\n",
        "# Make it pretty\n",
        "plt.title('Model loss')\n",
        "plt.ylabel('Loss')\n",
        "plt.xlabel('Epoch')\n",
        "plt.legend(['Train', 'Val'])\n",
        "plt.show()"
      ],
      "execution_count": 116,
      "outputs": [
        {
          "output_type": "display_data",
          "data": {
            "image/png": "[encoded data removed]",
            "text/plain": [
              "<Figure size 432x288 with 1 Axes>"
            ]
          },
          "metadata": {
            "tags": [],
            "needs_background": "light"
          }
        }
      ]
    },
    {
      "cell_type": "code",
      "metadata": {
        "colab": {
          "base_uri": "https://localhost:8080/"
        },
        "id": "SkM9ouJu9HNH",
        "outputId": "2b9ffbe2-c905-4fe9-cb8f-9ea4840cffe6"
      },
      "source": [
        "#1k)\n",
        "preds10 = model.predict(X[n_train-10:n_train])\n",
        "test_acc = model.evaluate(X[n_train-10:n_train], T[n_train-10:n_train], verbose=0)[1]\n",
        "preds = model.predict(X[:n_train])\n",
        "preds_val = model.predict(X[n_train:n_train+n_val])\n",
        "train_acc = model.evaluate(X[:n_train], T[:n_train], verbose=0)[1]\n",
        "preds_test = model.predict(X[n_train+n_val:])\n",
        "preds"
      ],
      "execution_count": 117,
      "outputs": [
        {
          "output_type": "execute_result",
          "data": {
            "text/plain": [
              "array([[0.],\n",
              "       [0.],\n",
              "       [0.],\n",
              "       ...,\n",
              "       [1.],\n",
              "       [1.],\n",
              "       [1.]], dtype=float32)"
            ]
          },
          "metadata": {
            "tags": []
          },
          "execution_count": 117
        }
      ]
    },
    {
      "cell_type": "code",
      "metadata": {
        "id": "Fj1bgdSzAoyf"
      },
      "source": [
        "#1l)\n",
        "from sklearn.metrics import confusion_matrix\n",
        "preds = (preds > 0.5).astype(int)\n",
        "preds_val = (preds_val > 0.5).astype(int)\n",
        "preds_test = (preds_test > 0.5).astype(int)"
      ],
      "execution_count": 118,
      "outputs": []
    },
    {
      "cell_type": "code",
      "metadata": {
        "colab": {
          "base_uri": "https://localhost:8080/"
        },
        "id": "ljpmdTFODOWB",
        "outputId": "65e4851e-01d5-408c-e8a0-027b6deefaae"
      },
      "source": [
        "confusion_matrix(T[:n_train], preds)"
      ],
      "execution_count": 119,
      "outputs": [
        {
          "output_type": "execute_result",
          "data": {
            "text/plain": [
              "array([[1883,    0],\n",
              "       [   0,    7]])"
            ]
          },
          "metadata": {
            "tags": []
          },
          "execution_count": 119
        }
      ]
    },
    {
      "cell_type": "code",
      "metadata": {
        "colab": {
          "base_uri": "https://localhost:8080/"
        },
        "id": "BV-UHphWTtve",
        "outputId": "885eade0-5181-48f8-a2db-b40e617792d8"
      },
      "source": [
        "confusion_matrix(T[n_train:n_train+n_val], preds_val)"
      ],
      "execution_count": 120,
      "outputs": [
        {
          "output_type": "execute_result",
          "data": {
            "text/plain": [
              "array([[  0,   0],\n",
              "       [431,  79]])"
            ]
          },
          "metadata": {
            "tags": []
          },
          "execution_count": 120
        }
      ]
    },
    {
      "cell_type": "code",
      "metadata": {
        "colab": {
          "base_uri": "https://localhost:8080/"
        },
        "id": "AzXjo91UYgIT",
        "outputId": "4a32567a-a495-4b83-fd02-c770b661696b"
      },
      "source": [
        "confusion_matrix(T[n_train+n_val:], preds_test)"
      ],
      "execution_count": 123,
      "outputs": [
        {
          "output_type": "execute_result",
          "data": {
            "text/plain": [
              "array([[274,   2],\n",
              "       [270,  54]])"
            ]
          },
          "metadata": {
            "tags": []
          },
          "execution_count": 123
        }
      ]
    },
    {
      "cell_type": "code",
      "metadata": {
        "colab": {
          "base_uri": "https://localhost:8080/",
          "height": 298
        },
        "id": "ZSmdX4dMVhkM",
        "outputId": "a1cb4755-b2bd-4380-b796-8fa9c98a7a06"
      },
      "source": [
        "plt.plot(T)\n",
        "plt.title(\"Sortierung von T\")"
      ],
      "execution_count": 122,
      "outputs": [
        {
          "output_type": "execute_result",
          "data": {
            "text/plain": [
              "Text(0.5, 1.0, 'Sortierung von T')"
            ]
          },
          "metadata": {
            "tags": []
          },
          "execution_count": 122
        },
        {
          "output_type": "display_data",
          "data": {
            "image/png": "[encoded data removed]",
            "text/plain": [
              "<Figure size 432x288 with 1 Axes>"
            ]
          },
          "metadata": {
            "tags": [],
            "needs_background": "light"
          }
        }
      ]
    },
    {
      "cell_type": "markdown",
      "metadata": {
        "id": "vPEQlWVoUfLL"
      },
      "source": [
        "431 -> False Negative  \n",
        "79 -> True Positive  \n",
        "Die Daten (n_val) besitzen nur die Klasse 1 ( T == 9 )  \n",
        "-> Daten sind möglicherweise aufsteigend sortiert  \n"
      ]
    },
    {
      "cell_type": "code",
      "metadata": {
        "colab": {
          "base_uri": "https://localhost:8080/"
        },
        "id": "pNtBru-ZW7KP",
        "outputId": "b1351bc2-e5b1-4d7a-e3cd-9f5baf858262"
      },
      "source": [
        "#1m)\n",
        "values, counts = np.unique(T[:n_train], return_counts=True)\n",
        "no_info_rate = counts.max()/n_train\n",
        "print(no_info_rate)"
      ],
      "execution_count": 129,
      "outputs": [
        {
          "output_type": "stream",
          "text": [
            "0.9962962962962963\n"
          ],
          "name": "stdout"
        }
      ]
    },
    {
      "cell_type": "code",
      "metadata": {
        "colab": {
          "base_uri": "https://localhost:8080/",
          "height": 352
        },
        "id": "QZ0nrgagaoOI",
        "outputId": "df98ce52-19cd-44b9-c2dc-7a429f99ebe7"
      },
      "source": [
        "#1n)\n",
        "plt.title(\"Training\")\n",
        "sns.countplot(T[:n_train])"
      ],
      "execution_count": 130,
      "outputs": [
        {
          "output_type": "stream",
          "text": [
            "/usr/local/lib/python3.7/dist-packages/seaborn/_decorators.py:43: FutureWarning: Pass the following variable as a keyword arg: x. From version 0.12, the only valid positional argument will be `data`, and passing other arguments without an explicit keyword will result in an error or misinterpretation.\n",
            "  FutureWarning\n"
          ],
          "name": "stderr"
        },
        {
          "output_type": "execute_result",
          "data": {
            "text/plain": [
              "<matplotlib.axes._subplots.AxesSubplot at 0x7fc6a76bf910>"
            ]
          },
          "metadata": {
            "tags": []
          },
          "execution_count": 130
        },
        {
          "output_type": "display_data",
          "data": {
            "image/png": "[encoded data removed]",
            "text/plain": [
              "<Figure size 432x288 with 1 Axes>"
            ]
          },
          "metadata": {
            "tags": [],
            "needs_background": "light"
          }
        }
      ]
    },
    {
      "cell_type": "code",
      "metadata": {
        "colab": {
          "base_uri": "https://localhost:8080/",
          "height": 352
        },
        "id": "I6KctN1La2cc",
        "outputId": "14ffa1f5-df75-45cf-e9c5-8042bf3a1fb6"
      },
      "source": [
        "plt.title(\"Validation\")\n",
        "sns.countplot(T[n_train:n_train+n_val])"
      ],
      "execution_count": 131,
      "outputs": [
        {
          "output_type": "stream",
          "text": [
            "/usr/local/lib/python3.7/dist-packages/seaborn/_decorators.py:43: FutureWarning: Pass the following variable as a keyword arg: x. From version 0.12, the only valid positional argument will be `data`, and passing other arguments without an explicit keyword will result in an error or misinterpretation.\n",
            "  FutureWarning\n"
          ],
          "name": "stderr"
        },
        {
          "output_type": "execute_result",
          "data": {
            "text/plain": [
              "<matplotlib.axes._subplots.AxesSubplot at 0x7fc69aaca5d0>"
            ]
          },
          "metadata": {
            "tags": []
          },
          "execution_count": 131
        },
        {
          "output_type": "display_data",
          "data": {
            "image/png": "[encoded data removed]",
            "text/plain": [
              "<Figure size 432x288 with 1 Axes>"
            ]
          },
          "metadata": {
            "tags": [],
            "needs_background": "light"
          }
        }
      ]
    },
    {
      "cell_type": "code",
      "metadata": {
        "colab": {
          "base_uri": "https://localhost:8080/",
          "height": 352
        },
        "id": "2aaZSlcZa-_e",
        "outputId": "65e9c4f1-150c-4bb5-f1d5-e54309fb6f9e"
      },
      "source": [
        "plt.title(\"Test\")\n",
        "sns.countplot(T[n_train+n_val:])"
      ],
      "execution_count": 132,
      "outputs": [
        {
          "output_type": "stream",
          "text": [
            "/usr/local/lib/python3.7/dist-packages/seaborn/_decorators.py:43: FutureWarning: Pass the following variable as a keyword arg: x. From version 0.12, the only valid positional argument will be `data`, and passing other arguments without an explicit keyword will result in an error or misinterpretation.\n",
            "  FutureWarning\n"
          ],
          "name": "stderr"
        },
        {
          "output_type": "execute_result",
          "data": {
            "text/plain": [
              "<matplotlib.axes._subplots.AxesSubplot at 0x7fc69ab59490>"
            ]
          },
          "metadata": {
            "tags": []
          },
          "execution_count": 132
        },
        {
          "output_type": "display_data",
          "data": {
            "image/png": "[encoded data removed]",
            "text/plain": [
              "<Figure size 432x288 with 1 Axes>"
            ]
          },
          "metadata": {
            "tags": [],
            "needs_background": "light"
          }
        }
      ]
    },
    {
      "cell_type": "markdown",
      "metadata": {
        "id": "P9TZIzkAbjMo"
      },
      "source": [
        "#1o) Das Model hat im Training fast nur mit Daten der Klasse 0 (T != 9) trainiert und wurde nur mit Daten mit der Klasse 1 (T == 9) validiert. "
      ]
    },
    {
      "cell_type": "code",
      "metadata": {
        "colab": {
          "base_uri": "https://localhost:8080/"
        },
        "id": "rWxT84IgbKtN",
        "outputId": "037a6b33-3e5a-4a42-ee62-d6d04ee2fab7"
      },
      "source": [
        "#1p) \n",
        "from sklearn.model_selection import train_test_split\n",
        "\n",
        "X_tmp, X_test, y_tmp, y_test = train_test_split(X, T, test_size=0.20, random_state=42)\n",
        "X_train, X_val, y_train, y_val = train_test_split(X_tmp, y_tmp, test_size=0.2125,random_state=42)\n",
        "\n",
        "print(\"Train: \", len(X_train))\n",
        "print(\"Val: \", len(X_val))\n",
        "print(\"Test: \", len(X_test))"
      ],
      "execution_count": 143,
      "outputs": [
        {
          "output_type": "stream",
          "text": [
            "Train:  1890\n",
            "Val:  510\n",
            "Test:  600\n"
          ],
          "name": "stdout"
        }
      ]
    },
    {
      "cell_type": "code",
      "metadata": {
        "colab": {
          "base_uri": "https://localhost:8080/",
          "height": 352
        },
        "id": "vxIhaIVlecyr",
        "outputId": "c2ce64b0-bf28-496d-df0a-03fba8b3ce00"
      },
      "source": [
        "plt.title(\"Training\")\n",
        "sns.countplot(y_train)"
      ],
      "execution_count": 144,
      "outputs": [
        {
          "output_type": "stream",
          "text": [
            "/usr/local/lib/python3.7/dist-packages/seaborn/_decorators.py:43: FutureWarning: Pass the following variable as a keyword arg: x. From version 0.12, the only valid positional argument will be `data`, and passing other arguments without an explicit keyword will result in an error or misinterpretation.\n",
            "  FutureWarning\n"
          ],
          "name": "stderr"
        },
        {
          "output_type": "execute_result",
          "data": {
            "text/plain": [
              "<matplotlib.axes._subplots.AxesSubplot at 0x7fc6978b39d0>"
            ]
          },
          "metadata": {
            "tags": []
          },
          "execution_count": 144
        },
        {
          "output_type": "display_data",
          "data": {
            "image/png": "[encoded data removed]",
            "text/plain": [
              "<Figure size 432x288 with 1 Axes>"
            ]
          },
          "metadata": {
            "tags": [],
            "needs_background": "light"
          }
        }
      ]
    },
    {
      "cell_type": "code",
      "metadata": {
        "colab": {
          "base_uri": "https://localhost:8080/",
          "height": 352
        },
        "id": "P0zvCCWEe5O4",
        "outputId": "bb1358b6-7d63-49ec-bb2f-d45c7f657018"
      },
      "source": [
        "plt.title(\"Validation\")\n",
        "sns.countplot(y_val)"
      ],
      "execution_count": 145,
      "outputs": [
        {
          "output_type": "stream",
          "text": [
            "/usr/local/lib/python3.7/dist-packages/seaborn/_decorators.py:43: FutureWarning: Pass the following variable as a keyword arg: x. From version 0.12, the only valid positional argument will be `data`, and passing other arguments without an explicit keyword will result in an error or misinterpretation.\n",
            "  FutureWarning\n"
          ],
          "name": "stderr"
        },
        {
          "output_type": "execute_result",
          "data": {
            "text/plain": [
              "<matplotlib.axes._subplots.AxesSubplot at 0x7fc69af512d0>"
            ]
          },
          "metadata": {
            "tags": []
          },
          "execution_count": 145
        },
        {
          "output_type": "display_data",
          "data": {
            "image/png": "[encoded data removed]",
            "text/plain": [
              "<Figure size 432x288 with 1 Axes>"
            ]
          },
          "metadata": {
            "tags": [],
            "needs_background": "light"
          }
        }
      ]
    },
    {
      "cell_type": "code",
      "metadata": {
        "colab": {
          "base_uri": "https://localhost:8080/",
          "height": 352
        },
        "id": "x-tNovCHek1f",
        "outputId": "3dddcd5c-b5c5-499c-f702-61c5fc26f5e0"
      },
      "source": [
        "plt.title(\"Test\")\n",
        "sns.countplot(y_test)"
      ],
      "execution_count": 146,
      "outputs": [
        {
          "output_type": "stream",
          "text": [
            "/usr/local/lib/python3.7/dist-packages/seaborn/_decorators.py:43: FutureWarning: Pass the following variable as a keyword arg: x. From version 0.12, the only valid positional argument will be `data`, and passing other arguments without an explicit keyword will result in an error or misinterpretation.\n",
            "  FutureWarning\n"
          ],
          "name": "stderr"
        },
        {
          "output_type": "execute_result",
          "data": {
            "text/plain": [
              "<matplotlib.axes._subplots.AxesSubplot at 0x7fc697836250>"
            ]
          },
          "metadata": {
            "tags": []
          },
          "execution_count": 146
        },
        {
          "output_type": "display_data",
          "data": {
            "image/png": "[encoded data removed]",
            "text/plain": [
              "<Figure size 432x288 with 1 Axes>"
            ]
          },
          "metadata": {
            "tags": [],
            "needs_background": "light"
          }
        }
      ]
    },
    {
      "cell_type": "code",
      "metadata": {
        "colab": {
          "base_uri": "https://localhost:8080/"
        },
        "id": "OJVronq-etzu",
        "outputId": "d2b35a69-1389-4922-ab3f-6e39f1204cc1"
      },
      "source": [
        "#1q)\n",
        "model = Sequential()\n",
        "model.add(Flatten())\n",
        "model.add(Dense(1,input_shape=(784,), activation='sigmoid'))\n",
        "\n",
        "model.compile(optimizer='sgd',loss='binary_crossentropy', metrics=[\"accuracy\"])\n",
        "\n",
        "#model.save_weights('modelinit.h5')\n",
        "#model.load_weights('modelinit.h5')\n",
        "\n",
        "hist = model.fit(X_train, y_train,epochs=10,validation_data=(X_val, y_val))"
      ],
      "execution_count": 147,
      "outputs": [
        {
          "output_type": "stream",
          "text": [
            "Epoch 1/10\n",
            "60/60 [==============================] - 1s 4ms/step - loss: 677.9837 - accuracy: 0.7638 - val_loss: 71.4953 - val_accuracy: 0.9412\n",
            "Epoch 2/10\n",
            "60/60 [==============================] - 0s 2ms/step - loss: 131.2156 - accuracy: 0.9055 - val_loss: 76.6116 - val_accuracy: 0.9431\n",
            "Epoch 3/10\n",
            "60/60 [==============================] - 0s 2ms/step - loss: 92.6109 - accuracy: 0.9372 - val_loss: 84.4286 - val_accuracy: 0.9392\n",
            "Epoch 4/10\n",
            "60/60 [==============================] - 0s 2ms/step - loss: 74.2976 - accuracy: 0.9389 - val_loss: 946.9450 - val_accuracy: 0.7118\n",
            "Epoch 5/10\n",
            "60/60 [==============================] - 0s 2ms/step - loss: 145.6173 - accuracy: 0.9102 - val_loss: 106.3789 - val_accuracy: 0.9098\n",
            "Epoch 6/10\n",
            "60/60 [==============================] - 0s 2ms/step - loss: 85.6723 - accuracy: 0.9390 - val_loss: 2953.0999 - val_accuracy: 0.7078\n",
            "Epoch 7/10\n",
            "60/60 [==============================] - 0s 2ms/step - loss: 333.6548 - accuracy: 0.8940 - val_loss: 71.7023 - val_accuracy: 0.9431\n",
            "Epoch 8/10\n",
            "60/60 [==============================] - 0s 2ms/step - loss: 58.7697 - accuracy: 0.9331 - val_loss: 99.4319 - val_accuracy: 0.9216\n",
            "Epoch 9/10\n",
            "60/60 [==============================] - 0s 2ms/step - loss: 71.6364 - accuracy: 0.9332 - val_loss: 142.9936 - val_accuracy: 0.9000\n",
            "Epoch 10/10\n",
            "60/60 [==============================] - 0s 2ms/step - loss: 60.9569 - accuracy: 0.9470 - val_loss: 65.0990 - val_accuracy: 0.9412\n"
          ],
          "name": "stdout"
        }
      ]
    },
    {
      "cell_type": "code",
      "metadata": {
        "colab": {
          "base_uri": "https://localhost:8080/",
          "height": 295
        },
        "id": "dDROampYf3V-",
        "outputId": "9a42d563-a70e-482c-fc86-da985763ada2"
      },
      "source": [
        "# Plot train vs test accuracy per epoch\n",
        "plt.figure()\n",
        "# Use the history metrics\n",
        "plt.plot(hist.history['accuracy'])\n",
        "plt.plot(hist.history['val_accuracy'])\n",
        "# Make it pretty\n",
        "plt.title('Model accuracy')\n",
        "plt.ylabel('Accuracy')\n",
        "plt.xlabel('Epoch')\n",
        "plt.legend(['Train', 'Val'])\n",
        "plt.show()"
      ],
      "execution_count": 148,
      "outputs": [
        {
          "output_type": "display_data",
          "data": {
            "image/png": "[encoded data removed]",
            "text/plain": [
              "<Figure size 432x288 with 1 Axes>"
            ]
          },
          "metadata": {
            "tags": [],
            "needs_background": "light"
          }
        }
      ]
    },
    {
      "cell_type": "code",
      "metadata": {
        "colab": {
          "base_uri": "https://localhost:8080/",
          "height": 295
        },
        "id": "YNa2RqrggKaJ",
        "outputId": "360dbfa4-6845-4bbd-b785-04e186c0c760"
      },
      "source": [
        "# Plot train vs test accuracy per epoch\n",
        "plt.figure()\n",
        "# Use the history metrics\n",
        "plt.plot(hist.history['loss'])\n",
        "plt.plot(hist.history['val_loss'])\n",
        "# Make it pretty\n",
        "plt.title('Model loss')\n",
        "plt.ylabel('Loss')\n",
        "plt.xlabel('Epoch')\n",
        "plt.legend(['Train', 'Val'])\n",
        "plt.show()"
      ],
      "execution_count": 149,
      "outputs": [
        {
          "output_type": "display_data",
          "data": {
            "image/png": "[encoded data removed]",
            "text/plain": [
              "<Figure size 432x288 with 1 Axes>"
            ]
          },
          "metadata": {
            "tags": [],
            "needs_background": "light"
          }
        }
      ]
    },
    {
      "cell_type": "code",
      "metadata": {
        "colab": {
          "base_uri": "https://localhost:8080/"
        },
        "id": "JlEHT9ppgOiW",
        "outputId": "04373141-1867-43ac-acd5-0a925758ef49"
      },
      "source": [
        "preds = model.predict(X_train)\n",
        "preds = (preds > 0.5).astype(int)\n",
        "confusion_matrix(y_train, preds)"
      ],
      "execution_count": 150,
      "outputs": [
        {
          "output_type": "execute_result",
          "data": {
            "text/plain": [
              "array([[1338,   36],\n",
              "       [  41,  475]])"
            ]
          },
          "metadata": {
            "tags": []
          },
          "execution_count": 150
        }
      ]
    },
    {
      "cell_type": "code",
      "metadata": {
        "colab": {
          "base_uri": "https://localhost:8080/"
        },
        "id": "wtUeDsKdg1G9",
        "outputId": "74b9868b-29cc-4dc4-9eb8-69bdc9b80c0f"
      },
      "source": [
        "from sklearn.metrics import classification_report\n",
        "target_names = [\"0\", \"1\"]\n",
        "print(classification_report(y_train, preds, target_names=target_names))"
      ],
      "execution_count": 152,
      "outputs": [
        {
          "output_type": "stream",
          "text": [
            "              precision    recall  f1-score   support\n",
            "\n",
            "           0       0.97      0.97      0.97      1374\n",
            "           1       0.93      0.92      0.93       516\n",
            "\n",
            "    accuracy                           0.96      1890\n",
            "   macro avg       0.95      0.95      0.95      1890\n",
            "weighted avg       0.96      0.96      0.96      1890\n",
            "\n"
          ],
          "name": "stdout"
        }
      ]
    },
    {
      "cell_type": "markdown",
      "metadata": {
        "id": "Q8QRcKxgheRF"
      },
      "source": [
        "#1r) Es kann eine ROC Kurve erstellt werden, weil:  \n",
        "-> es gibt False Positives  \n",
        "-> es gibt True Positives  \n",
        "-> es existieren nur 2 Klassen  \n",
        "-> es handelt sich um einen binären Klassifizierer"
      ]
    },
    {
      "cell_type": "code",
      "metadata": {
        "id": "gks-vOr8h0pK"
      },
      "source": [
        "from sklearn import metrics\n",
        "preds_test = model.predict(X_test)\n",
        "preds_test = (preds_test > 0.5).astype(int)\n",
        "fpr, tpr, thresholds = metrics.roc_curve(y_test, preds_test, pos_label=1)"
      ],
      "execution_count": 158,
      "outputs": []
    },
    {
      "cell_type": "code",
      "metadata": {
        "colab": {
          "base_uri": "https://localhost:8080/",
          "height": 298
        },
        "id": "RSoMfur_i5qB",
        "outputId": "5995de30-e720-4575-d0ca-fdd4b5b9cb9c"
      },
      "source": [
        "plt.plot(fpr, tpr)\n",
        "plt.title(\"ROC\")"
      ],
      "execution_count": 160,
      "outputs": [
        {
          "output_type": "execute_result",
          "data": {
            "text/plain": [
              "Text(0.5, 1.0, 'ROC')"
            ]
          },
          "metadata": {
            "tags": []
          },
          "execution_count": 160
        },
        {
          "output_type": "display_data",
          "data": {
            "image/png": "[encoded data removed]",
            "text/plain": [
              "<Figure size 432x288 with 1 Axes>"
            ]
          },
          "metadata": {
            "tags": [],
            "needs_background": "light"
          }
        }
      ]
    },
    {
      "cell_type": "code",
      "metadata": {
        "colab": {
          "base_uri": "https://localhost:8080/"
        },
        "id": "6IuosEayi-Vz",
        "outputId": "893b9dfc-5e9a-47d3-8737-5049d7b32e0f"
      },
      "source": [
        "from sklearn.metrics import roc_auc_score\n",
        "roc_auc_score(y_test, preds_test)"
      ],
      "execution_count": 161,
      "outputs": [
        {
          "output_type": "execute_result",
          "data": {
            "text/plain": [
              "0.9037307032590052"
            ]
          },
          "metadata": {
            "tags": []
          },
          "execution_count": 161
        }
      ]
    },
    {
      "cell_type": "markdown",
      "metadata": {
        "id": "Ok104XJ2jdiF"
      },
      "source": [
        "#1s) Der Brier Score mit dem aktuellen Stand der Predicion nicht verwendet werden, weil der Brier Score die vorhergesagten Wahrscheinlichkeiten benötigt. Momentan sind die Predictions als die entsprechende Klasse vorhanden. Man könnte den Brier Score verwenden, wenn wir die Ausgabe der Prediction anpassen würden. "
      ]
    }
  ]
}