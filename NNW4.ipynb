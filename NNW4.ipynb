{
  "nbformat": 4,
  "nbformat_minor": 0,
  "metadata": {
    "language_info": {
      "codemirror_mode": {
        "name": "ipython",
        "version": 3
      },
      "file_extension": ".py",
      "mimetype": "text/x-python",
      "name": "python",
      "nbconvert_exporter": "python",
      "pygments_lexer": "ipython3",
      "version": "3.8.5"
    },
    "orig_nbformat": 2,
    "kernelspec": {
      "name": "python3",
      "display_name": "Python 3.8.5 64-bit ('base': conda)",
      "metadata": {
        "interpreter": {
          "hash": "6071e28a906ee3066aa7ef471fe6faf58a6aaa6a0473010f9d3f54552e0e7ff7"
        }
      }
    },
    "colab": {
      "name": "NNW4.ipynb",
      "provenance": [],
      "toc_visible": true
    }
  },
  "cells": [
    {
      "cell_type": "code",
      "metadata": {
        "id": "7TluZw8V3grh"
      },
      "source": [
        "import numpy as np \n",
        "import seaborn as sns\n",
        "import matplotlib.pyplot as plt\n",
        "import math"
      ],
      "execution_count": 3,
      "outputs": []
    },
    {
      "cell_type": "code",
      "metadata": {
        "id": "mxvVZ4wq3grj"
      },
      "source": [
        "# 1a)\n",
        "data = np.load(\"mnistspezial1.npz\")\n",
        "X = data.f.X\n",
        "T = data.f.T"
      ],
      "execution_count": 4,
      "outputs": []
    },
    {
      "cell_type": "code",
      "metadata": {
        "colab": {
          "base_uri": "https://localhost:8080/"
        },
        "id": "866hmgxr3grj",
        "outputId": "9c59b2b8-c583-4515-9205-79622d19d79d"
      },
      "source": [
        "#1b)\n",
        "X.shape"
      ],
      "execution_count": 5,
      "outputs": [
        {
          "output_type": "execute_result",
          "data": {
            "text/plain": [
              "(3000, 28, 28)"
            ]
          },
          "metadata": {
            "tags": []
          },
          "execution_count": 5
        }
      ]
    },
    {
      "cell_type": "code",
      "metadata": {
        "colab": {
          "base_uri": "https://localhost:8080/"
        },
        "id": "_xIDPIGk3grk",
        "outputId": "3f95b4d2-a0ca-4c08-a105-14a508c36449"
      },
      "source": [
        "#1b)\n",
        "T.shape"
      ],
      "execution_count": 6,
      "outputs": [
        {
          "output_type": "execute_result",
          "data": {
            "text/plain": [
              "(3000,)"
            ]
          },
          "metadata": {
            "tags": []
          },
          "execution_count": 6
        }
      ]
    },
    {
      "cell_type": "code",
      "metadata": {
        "colab": {
          "base_uri": "https://localhost:8080/",
          "height": 352
        },
        "id": "bt1wBDXf3grl",
        "outputId": "25a2bc71-8d3a-4ed7-a2d2-4beb0b600624"
      },
      "source": [
        "#1c)\n",
        "plt.title(\"Alle Daten\")\n",
        "sns.countplot(T)"
      ],
      "execution_count": 7,
      "outputs": [
        {
          "output_type": "stream",
          "text": [
            "/usr/local/lib/python3.7/dist-packages/seaborn/_decorators.py:43: FutureWarning: Pass the following variable as a keyword arg: x. From version 0.12, the only valid positional argument will be `data`, and passing other arguments without an explicit keyword will result in an error or misinterpretation.\n",
            "  FutureWarning\n"
          ],
          "name": "stderr"
        },
        {
          "output_type": "execute_result",
          "data": {
            "text/plain": [
              "<matplotlib.axes._subplots.AxesSubplot at 0x7f71a6df01d0>"
            ]
          },
          "metadata": {
            "tags": []
          },
          "execution_count": 7
        },
        {
          "output_type": "display_data",
          "data": {
            "image/png": "[encoded data removed]",
            "text/plain": [
              "<Figure size 432x288 with 1 Axes>"
            ]
          },
          "metadata": {
            "tags": [],
            "needs_background": "light"
          }
        }
      ]
    },
    {
      "cell_type": "code",
      "metadata": {
        "id": "DVi_KIBP3grl"
      },
      "source": [
        "#1d)\n",
        "values, counts = np.unique(T, return_counts=True)"
      ],
      "execution_count": 8,
      "outputs": []
    },
    {
      "cell_type": "code",
      "metadata": {
        "colab": {
          "base_uri": "https://localhost:8080/"
        },
        "id": "YVbVZ0bL3grm",
        "outputId": "347afc0b-4f88-45de-b256-4b823e4a3b50"
      },
      "source": [
        "values"
      ],
      "execution_count": 9,
      "outputs": [
        {
          "output_type": "execute_result",
          "data": {
            "text/plain": [
              "array([0, 1, 2, 3, 4, 5, 6, 7, 8, 9], dtype=uint8)"
            ]
          },
          "metadata": {
            "tags": []
          },
          "execution_count": 9
        }
      ]
    },
    {
      "cell_type": "code",
      "metadata": {
        "colab": {
          "base_uri": "https://localhost:8080/"
        },
        "id": "k-1QXVW13grm",
        "outputId": "2da69148-f0ae-4c95-d4c7-a817cc102089"
      },
      "source": [
        "counts"
      ],
      "execution_count": 10,
      "outputs": [
        {
          "output_type": "execute_result",
          "data": {
            "text/plain": [
              "array([191, 426, 305, 205,  55, 248, 191, 203, 335, 841])"
            ]
          },
          "metadata": {
            "tags": []
          },
          "execution_count": 10
        }
      ]
    },
    {
      "cell_type": "code",
      "metadata": {
        "colab": {
          "base_uri": "https://localhost:8080/"
        },
        "id": "wyY5CaFs3grm",
        "outputId": "3b6f74bb-86a2-4fbb-8f0b-362e51577590"
      },
      "source": [
        "#1e)\n",
        "T = np.where(T != 9, 0, 1)\n",
        "np.unique(T)"
      ],
      "execution_count": 11,
      "outputs": [
        {
          "output_type": "execute_result",
          "data": {
            "text/plain": [
              "array([0, 1])"
            ]
          },
          "metadata": {
            "tags": []
          },
          "execution_count": 11
        }
      ]
    },
    {
      "cell_type": "code",
      "metadata": {
        "colab": {
          "base_uri": "https://localhost:8080/"
        },
        "id": "t8mRflUx3grn",
        "outputId": "5ad98531-bad8-4bc9-f410-4ce12473359e"
      },
      "source": [
        "values, counts = np.unique(T, return_counts=True)\n",
        "counts"
      ],
      "execution_count": 12,
      "outputs": [
        {
          "output_type": "execute_result",
          "data": {
            "text/plain": [
              "array([2159,  841])"
            ]
          },
          "metadata": {
            "tags": []
          },
          "execution_count": 12
        }
      ]
    },
    {
      "cell_type": "code",
      "metadata": {
        "colab": {
          "base_uri": "https://localhost:8080/",
          "height": 352
        },
        "id": "N7cat12h3grn",
        "outputId": "307e5aee-f63e-49eb-de1b-a77edbb204a2"
      },
      "source": [
        "#1f)\n",
        "plt.title(\"Zwei Klassen\")\n",
        "sns.countplot(T)"
      ],
      "execution_count": 13,
      "outputs": [
        {
          "output_type": "stream",
          "text": [
            "/usr/local/lib/python3.7/dist-packages/seaborn/_decorators.py:43: FutureWarning: Pass the following variable as a keyword arg: x. From version 0.12, the only valid positional argument will be `data`, and passing other arguments without an explicit keyword will result in an error or misinterpretation.\n",
            "  FutureWarning\n"
          ],
          "name": "stderr"
        },
        {
          "output_type": "execute_result",
          "data": {
            "text/plain": [
              "<matplotlib.axes._subplots.AxesSubplot at 0x7f71a6093410>"
            ]
          },
          "metadata": {
            "tags": []
          },
          "execution_count": 13
        },
        {
          "output_type": "display_data",
          "data": {
            "image/png": "[encoded data removed]",
            "text/plain": [
              "<Figure size 432x288 with 1 Axes>"
            ]
          },
          "metadata": {
            "tags": [],
            "needs_background": "light"
          }
        }
      ]
    },
    {
      "cell_type": "code",
      "metadata": {
        "colab": {
          "base_uri": "https://localhost:8080/"
        },
        "id": "0yoT71bK3gro",
        "outputId": "81f4f292-9976-492a-8f92-62625f3fa143"
      },
      "source": [
        "#1g)\n",
        "N_gesamt = T.shape[0]\n",
        "print(N_gesamt)"
      ],
      "execution_count": 14,
      "outputs": [
        {
          "output_type": "stream",
          "text": [
            "3000\n"
          ],
          "name": "stdout"
        }
      ]
    },
    {
      "cell_type": "code",
      "metadata": {
        "colab": {
          "base_uri": "https://localhost:8080/"
        },
        "id": "EG_bQ4hB3gro",
        "outputId": "1108fea9-8982-40d6-b6ee-fa62d1a0288b"
      },
      "source": [
        "n_train = math.floor(N_gesamt*0.63)\n",
        "print(n_train)"
      ],
      "execution_count": 15,
      "outputs": [
        {
          "output_type": "stream",
          "text": [
            "1890\n"
          ],
          "name": "stdout"
        }
      ]
    },
    {
      "cell_type": "code",
      "metadata": {
        "colab": {
          "base_uri": "https://localhost:8080/"
        },
        "id": "87ETlLU33grp",
        "outputId": "a5c47954-14e7-4955-a42b-7902f672f8f3"
      },
      "source": [
        "n_val = math.floor(N_gesamt*0.17)\n",
        "print(n_val)"
      ],
      "execution_count": 16,
      "outputs": [
        {
          "output_type": "stream",
          "text": [
            "510\n"
          ],
          "name": "stdout"
        }
      ]
    },
    {
      "cell_type": "code",
      "metadata": {
        "colab": {
          "base_uri": "https://localhost:8080/"
        },
        "id": "gCq9djCs3grp",
        "outputId": "e67d59e9-1845-4080-cfd0-607981e771c3"
      },
      "source": [
        "n_test = math.floor(N_gesamt*0.20)\n",
        "print(n_test)"
      ],
      "execution_count": 17,
      "outputs": [
        {
          "output_type": "stream",
          "text": [
            "600\n"
          ],
          "name": "stdout"
        }
      ]
    },
    {
      "cell_type": "code",
      "metadata": {
        "id": "TIYZ6-yZ3grp"
      },
      "source": [
        "#1h)\n",
        "from keras.models import Sequential\n",
        "from keras.layers import Dense, Flatten"
      ],
      "execution_count": 18,
      "outputs": []
    },
    {
      "cell_type": "code",
      "metadata": {
        "colab": {
          "base_uri": "https://localhost:8080/"
        },
        "id": "0wGY4vKI4R4e",
        "outputId": "67a98555-14b8-4e62-e047-8174aeb51356"
      },
      "source": [
        "#1i)\n",
        "model = Sequential()\n",
        "model.add(Flatten())\n",
        "model.add(Dense(1,input_shape=(784,), activation='sigmoid'))\n",
        "\n",
        "model.compile(optimizer='sgd',loss='mean_squared_error', metrics=[\"accuracy\"])\n",
        "\n",
        "#model.save_weights('modelinit.h5')\n",
        "#model.load_weights('modelinit.h5')\n",
        "\n",
        "hist = model.fit(X[:n_train], T[:n_train],epochs=10,validation_data=(X[n_train:n_train + n_val], T[n_train:n_train + n_val]))"
      ],
      "execution_count": 19,
      "outputs": [
        {
          "output_type": "stream",
          "text": [
            "Epoch 1/10\n",
            "60/60 [==============================] - 1s 8ms/step - loss: 0.0134 - accuracy: 0.9857 - val_loss: 1.0000 - val_accuracy: 0.0000e+00\n",
            "Epoch 2/10\n",
            "60/60 [==============================] - 0s 2ms/step - loss: 0.0025 - accuracy: 0.9975 - val_loss: 1.0000 - val_accuracy: 0.0000e+00\n",
            "Epoch 3/10\n",
            "60/60 [==============================] - 0s 2ms/step - loss: 0.0045 - accuracy: 0.9955 - val_loss: 1.0000 - val_accuracy: 0.0000e+00\n",
            "Epoch 4/10\n",
            "60/60 [==============================] - 0s 2ms/step - loss: 0.0025 - accuracy: 0.9975 - val_loss: 1.0000 - val_accuracy: 0.0000e+00\n",
            "Epoch 5/10\n",
            "60/60 [==============================] - 0s 2ms/step - loss: 0.0054 - accuracy: 0.9946 - val_loss: 1.0000 - val_accuracy: 0.0000e+00\n",
            "Epoch 6/10\n",
            "60/60 [==============================] - 0s 2ms/step - loss: 0.0028 - accuracy: 0.9972 - val_loss: 1.0000 - val_accuracy: 0.0000e+00\n",
            "Epoch 7/10\n",
            "60/60 [==============================] - 0s 2ms/step - loss: 0.0034 - accuracy: 0.9966 - val_loss: 1.0000 - val_accuracy: 0.0000e+00\n",
            "Epoch 8/10\n",
            "60/60 [==============================] - 0s 2ms/step - loss: 0.0022 - accuracy: 0.9978 - val_loss: 1.0000 - val_accuracy: 0.0000e+00\n",
            "Epoch 9/10\n",
            "60/60 [==============================] - 0s 2ms/step - loss: 0.0045 - accuracy: 0.9955 - val_loss: 1.0000 - val_accuracy: 0.0000e+00\n",
            "Epoch 10/10\n",
            "60/60 [==============================] - 0s 2ms/step - loss: 0.0020 - accuracy: 0.9980 - val_loss: 1.0000 - val_accuracy: 0.0000e+00\n"
          ],
          "name": "stdout"
        }
      ]
    },
    {
      "cell_type": "code",
      "metadata": {
        "colab": {
          "base_uri": "https://localhost:8080/",
          "height": 308
        },
        "id": "DThJaCeg8xRm",
        "outputId": "20db3be0-085f-49d8-f66c-02105fa41040"
      },
      "source": [
        "#1j)\n",
        "losses = hist.history['loss']\n",
        "accs = hist.history['accuracy']\n",
        "\n",
        "# Plot history of loss and accuracy\n",
        "fig, axs = plt.subplots(2)\n",
        "fig.suptitle('Model Loss and Accuracy')\n",
        "axs[0].plot(losses)\n",
        "axs[0].set(xlabel='Epoch', ylabel='Loss')\n",
        "axs[1].plot(accs)\n",
        "axs[1].set(xlabel='Epoch', ylabel='Accuracy')\n",
        "plt.show()\n"
      ],
      "execution_count": 20,
      "outputs": [
        {
          "output_type": "display_data",
          "data": {
            "image/png": "[encoded data removed]",
            "text/plain": [
              "<Figure size 432x288 with 2 Axes>"
            ]
          },
          "metadata": {
            "tags": [],
            "needs_background": "light"
          }
        }
      ]
    },
    {
      "cell_type": "code",
      "metadata": {
        "colab": {
          "base_uri": "https://localhost:8080/",
          "height": 295
        },
        "id": "236uDXru9uD6",
        "outputId": "f4efd33b-8292-4005-d7b1-f8d4898cd0ec"
      },
      "source": [
        "# Plot train vs test accuracy per epoch\n",
        "plt.figure()\n",
        "# Use the history metrics\n",
        "plt.plot(hist.history['accuracy'])\n",
        "plt.plot(hist.history['val_accuracy'])\n",
        "# Make it pretty\n",
        "plt.title('Model accuracy')\n",
        "plt.ylabel('Accuracy')\n",
        "plt.xlabel('Epoch')\n",
        "plt.legend(['Train', 'Val'])\n",
        "plt.show()"
      ],
      "execution_count": 21,
      "outputs": [
        {
          "output_type": "display_data",
          "data": {
            "image/png": "[encoded data removed]",
            "text/plain": [
              "<Figure size 432x288 with 1 Axes>"
            ]
          },
          "metadata": {
            "tags": [],
            "needs_background": "light"
          }
        }
      ]
    },
    {
      "cell_type": "code",
      "metadata": {
        "colab": {
          "base_uri": "https://localhost:8080/",
          "height": 295
        },
        "id": "lW4sBPrz94AX",
        "outputId": "9626e529-95e3-40e6-cc4b-22c94d60c36a"
      },
      "source": [
        "# Plot train vs test accuracy per epoch\n",
        "plt.figure()\n",
        "# Use the history metrics\n",
        "plt.plot(hist.history['loss'])\n",
        "plt.plot(hist.history['val_loss'])\n",
        "# Make it pretty\n",
        "plt.title('Model loss')\n",
        "plt.ylabel('Loss')\n",
        "plt.xlabel('Epoch')\n",
        "plt.legend(['Train', 'Val'])\n",
        "plt.show()"
      ],
      "execution_count": 22,
      "outputs": [
        {
          "output_type": "display_data",
          "data": {
            "image/png": "[encoded data removed]",
            "text/plain": [
              "<Figure size 432x288 with 1 Axes>"
            ]
          },
          "metadata": {
            "tags": [],
            "needs_background": "light"
          }
        }
      ]
    },
    {
      "cell_type": "code",
      "metadata": {
        "colab": {
          "base_uri": "https://localhost:8080/"
        },
        "id": "SkM9ouJu9HNH",
        "outputId": "689ae390-6d9a-4186-bc1d-0187c195bd77"
      },
      "source": [
        "#1k)\n",
        "preds10 = model.predict(X[n_train-10:n_train])\n",
        "test_acc = model.evaluate(X[n_train-10:n_train], T[n_train-10:n_train], verbose=0)[1]\n",
        "preds = model.predict(X[:n_train])\n",
        "preds_val = model.predict(X[n_train:n_train+n_val])\n",
        "train_acc = model.evaluate(X[:n_train], T[:n_train], verbose=0)[1]\n",
        "preds_test = model.predict(X[n_train+n_val:])\n"
      ],
      "execution_count": 23,
      "outputs": [
        {
          "output_type": "execute_result",
          "data": {
            "text/plain": [
              "0.30000001192092896"
            ]
          },
          "metadata": {
            "tags": []
          },
          "execution_count": 23
        }
      ]
    },
    {
      "cell_type": "code",
      "metadata": {
        "colab": {
          "base_uri": "https://localhost:8080/"
        },
        "id": "DCItwTHHp3Vk",
        "outputId": "182ab44f-bbd8-4992-d037-b5a469207037"
      },
      "source": [
        "print(test_acc)\n",
        "print(train_acc)"
      ],
      "execution_count": 49,
      "outputs": [
        {
          "output_type": "stream",
          "text": [
            "0.30000001192092896\n",
            "0.9962962865829468\n"
          ],
          "name": "stdout"
        }
      ]
    },
    {
      "cell_type": "code",
      "metadata": {
        "id": "Fj1bgdSzAoyf",
        "colab": {
          "base_uri": "https://localhost:8080/"
        },
        "outputId": "58c1b2f2-e4a6-47a9-d4ae-068cf2967f25"
      },
      "source": [
        "#1l)\n",
        "from sklearn.metrics import confusion_matrix\n",
        "preds = (preds > 0.5).astype(int)\n",
        "preds_val = (preds_val > 0.5).astype(int)\n",
        "preds_test = (preds_test > 0.5).astype(int)\n",
        "\n",
        "from sklearn.metrics import classification_report\n",
        "target_names = [\"0\", \"1\"]\n",
        "print(classification_report(y_train, preds, target_names=target_names))"
      ],
      "execution_count": 45,
      "outputs": [
        {
          "output_type": "stream",
          "text": [
            "              precision    recall  f1-score   support\n",
            "\n",
            "           0       0.98      0.95      0.97      1343\n",
            "           1       0.89      0.95      0.92       547\n",
            "\n",
            "    accuracy                           0.95      1890\n",
            "   macro avg       0.94      0.95      0.94      1890\n",
            "weighted avg       0.95      0.95      0.95      1890\n",
            "\n"
          ],
          "name": "stdout"
        }
      ]
    },
    {
      "cell_type": "code",
      "metadata": {
        "colab": {
          "base_uri": "https://localhost:8080/"
        },
        "id": "ljpmdTFODOWB",
        "outputId": "f8e1ff78-2d41-4344-c49c-f847745b6ae7"
      },
      "source": [
        "confusion_matrix(T[:n_train], preds)"
      ],
      "execution_count": 25,
      "outputs": [
        {
          "output_type": "execute_result",
          "data": {
            "text/plain": [
              "array([[1883,    0],\n",
              "       [   7,    0]])"
            ]
          },
          "metadata": {
            "tags": []
          },
          "execution_count": 25
        }
      ]
    },
    {
      "cell_type": "code",
      "metadata": {
        "colab": {
          "base_uri": "https://localhost:8080/"
        },
        "id": "BV-UHphWTtve",
        "outputId": "326812da-f408-481f-dc71-012a72083a6b"
      },
      "source": [
        "confusion_matrix(T[n_train:n_train+n_val], preds_val)"
      ],
      "execution_count": 26,
      "outputs": [
        {
          "output_type": "execute_result",
          "data": {
            "text/plain": [
              "array([[  0,   0],\n",
              "       [510,   0]])"
            ]
          },
          "metadata": {
            "tags": []
          },
          "execution_count": 26
        }
      ]
    },
    {
      "cell_type": "code",
      "metadata": {
        "colab": {
          "base_uri": "https://localhost:8080/"
        },
        "id": "AzXjo91UYgIT",
        "outputId": "a3191443-874d-46ec-843e-6a2a53aa0e87"
      },
      "source": [
        "confusion_matrix(T[n_train+n_val:], preds_test)"
      ],
      "execution_count": 27,
      "outputs": [
        {
          "output_type": "execute_result",
          "data": {
            "text/plain": [
              "array([[276,   0],\n",
              "       [324,   0]])"
            ]
          },
          "metadata": {
            "tags": []
          },
          "execution_count": 27
        }
      ]
    },
    {
      "cell_type": "code",
      "metadata": {
        "colab": {
          "base_uri": "https://localhost:8080/",
          "height": 298
        },
        "id": "ZSmdX4dMVhkM",
        "outputId": "897a4bb5-8bc6-4c4d-d4f9-832d2cd97305"
      },
      "source": [
        "plt.plot(T)\n",
        "plt.title(\"Sortierung von T\")"
      ],
      "execution_count": 28,
      "outputs": [
        {
          "output_type": "execute_result",
          "data": {
            "text/plain": [
              "Text(0.5, 1.0, 'Sortierung von T')"
            ]
          },
          "metadata": {
            "tags": []
          },
          "execution_count": 28
        },
        {
          "output_type": "display_data",
          "data": {
            "image/png": "[encoded data removed]",
            "text/plain": [
              "<Figure size 432x288 with 1 Axes>"
            ]
          },
          "metadata": {
            "tags": [],
            "needs_background": "light"
          }
        }
      ]
    },
    {
      "cell_type": "markdown",
      "metadata": {
        "id": "vPEQlWVoUfLL"
      },
      "source": [
        "431 -> False Negative  \n",
        "79 -> True Positive  \n",
        "Die Daten (n_val) besitzen nur die Klasse 1 ( T == 9 )  \n",
        "-> Daten sind möglicherweise aufsteigend sortiert  \n"
      ]
    },
    {
      "cell_type": "code",
      "metadata": {
        "colab": {
          "base_uri": "https://localhost:8080/"
        },
        "id": "pNtBru-ZW7KP",
        "outputId": "bc1cf824-d780-4e61-f403-2ad59b19902b"
      },
      "source": [
        "#1m)\n",
        "values, counts = np.unique(T[:n_train], return_counts=True)\n",
        "no_info_rate = counts.max()/n_train\n",
        "print(no_info_rate)"
      ],
      "execution_count": 29,
      "outputs": [
        {
          "output_type": "stream",
          "text": [
            "0.9962962962962963\n"
          ],
          "name": "stdout"
        }
      ]
    },
    {
      "cell_type": "code",
      "metadata": {
        "colab": {
          "base_uri": "https://localhost:8080/",
          "height": 352
        },
        "id": "QZ0nrgagaoOI",
        "outputId": "1b78690d-6086-449f-bf4c-3750f08b2c13"
      },
      "source": [
        "#1n)\n",
        "plt.title(\"Training\")\n",
        "sns.countplot(T[:n_train])"
      ],
      "execution_count": 30,
      "outputs": [
        {
          "output_type": "stream",
          "text": [
            "/usr/local/lib/python3.7/dist-packages/seaborn/_decorators.py:43: FutureWarning: Pass the following variable as a keyword arg: x. From version 0.12, the only valid positional argument will be `data`, and passing other arguments without an explicit keyword will result in an error or misinterpretation.\n",
            "  FutureWarning\n"
          ],
          "name": "stderr"
        },
        {
          "output_type": "execute_result",
          "data": {
            "text/plain": [
              "<matplotlib.axes._subplots.AxesSubplot at 0x7f71691b14d0>"
            ]
          },
          "metadata": {
            "tags": []
          },
          "execution_count": 30
        },
        {
          "output_type": "display_data",
          "data": {
            "image/png": "[encoded data removed]",
            "text/plain": [
              "<Figure size 432x288 with 1 Axes>"
            ]
          },
          "metadata": {
            "tags": [],
            "needs_background": "light"
          }
        }
      ]
    },
    {
      "cell_type": "code",
      "metadata": {
        "colab": {
          "base_uri": "https://localhost:8080/",
          "height": 352
        },
        "id": "I6KctN1La2cc",
        "outputId": "df73fdd3-761b-45c7-a081-3e62cf581b63"
      },
      "source": [
        "plt.title(\"Validation\")\n",
        "sns.countplot(T[n_train:n_train+n_val])"
      ],
      "execution_count": 31,
      "outputs": [
        {
          "output_type": "stream",
          "text": [
            "/usr/local/lib/python3.7/dist-packages/seaborn/_decorators.py:43: FutureWarning: Pass the following variable as a keyword arg: x. From version 0.12, the only valid positional argument will be `data`, and passing other arguments without an explicit keyword will result in an error or misinterpretation.\n",
            "  FutureWarning\n"
          ],
          "name": "stderr"
        },
        {
          "output_type": "execute_result",
          "data": {
            "text/plain": [
              "<matplotlib.axes._subplots.AxesSubplot at 0x7f71691ad5d0>"
            ]
          },
          "metadata": {
            "tags": []
          },
          "execution_count": 31
        },
        {
          "output_type": "display_data",
          "data": {
            "image/png": "[encoded data removed]",
            "text/plain": [
              "<Figure size 432x288 with 1 Axes>"
            ]
          },
          "metadata": {
            "tags": [],
            "needs_background": "light"
          }
        }
      ]
    },
    {
      "cell_type": "code",
      "metadata": {
        "colab": {
          "base_uri": "https://localhost:8080/",
          "height": 352
        },
        "id": "2aaZSlcZa-_e",
        "outputId": "e3240de6-b06a-4091-888e-d71bd2b052fc"
      },
      "source": [
        "plt.title(\"Test\")\n",
        "sns.countplot(T[n_train+n_val:])"
      ],
      "execution_count": 32,
      "outputs": [
        {
          "output_type": "stream",
          "text": [
            "/usr/local/lib/python3.7/dist-packages/seaborn/_decorators.py:43: FutureWarning: Pass the following variable as a keyword arg: x. From version 0.12, the only valid positional argument will be `data`, and passing other arguments without an explicit keyword will result in an error or misinterpretation.\n",
            "  FutureWarning\n"
          ],
          "name": "stderr"
        },
        {
          "output_type": "execute_result",
          "data": {
            "text/plain": [
              "<matplotlib.axes._subplots.AxesSubplot at 0x7f71691967d0>"
            ]
          },
          "metadata": {
            "tags": []
          },
          "execution_count": 32
        },
        {
          "output_type": "display_data",
          "data": {
            "image/png": "[encoded data removed]",
            "text/plain": [
              "<Figure size 432x288 with 1 Axes>"
            ]
          },
          "metadata": {
            "tags": [],
            "needs_background": "light"
          }
        }
      ]
    },
    {
      "cell_type": "markdown",
      "metadata": {
        "id": "P9TZIzkAbjMo"
      },
      "source": [
        "#1o) Das Model hat im Training fast nur mit Daten der Klasse 0 (T != 9) trainiert und wurde nur mit Daten mit der Klasse 1 (T == 9) validiert. "
      ]
    },
    {
      "cell_type": "code",
      "metadata": {
        "colab": {
          "base_uri": "https://localhost:8080/"
        },
        "id": "rWxT84IgbKtN",
        "outputId": "36ef0a96-7796-438f-efd0-0e8b55f39a7c"
      },
      "source": [
        "#1p) \n",
        "from sklearn.model_selection import train_test_split\n",
        "\n",
        "X_tmp, X_test, y_tmp, y_test = train_test_split(X, T, test_size=0.20, random_state=42)\n",
        "X_train, X_val, y_train, y_val = train_test_split(X_tmp, y_tmp, test_size=0.2125,random_state=42)\n",
        "\n",
        "print(\"Train: \", len(X_train))\n",
        "print(\"Val: \", len(X_val))\n",
        "print(\"Test: \", len(X_test))"
      ],
      "execution_count": 33,
      "outputs": [
        {
          "output_type": "stream",
          "text": [
            "Train:  1890\n",
            "Val:  510\n",
            "Test:  600\n"
          ],
          "name": "stdout"
        }
      ]
    },
    {
      "cell_type": "code",
      "metadata": {
        "colab": {
          "base_uri": "https://localhost:8080/",
          "height": 352
        },
        "id": "vxIhaIVlecyr",
        "outputId": "6ea55b72-654e-4322-bdec-a5525dc0f2b9"
      },
      "source": [
        "plt.title(\"Training\")\n",
        "sns.countplot(y_train)"
      ],
      "execution_count": 34,
      "outputs": [
        {
          "output_type": "stream",
          "text": [
            "/usr/local/lib/python3.7/dist-packages/seaborn/_decorators.py:43: FutureWarning: Pass the following variable as a keyword arg: x. From version 0.12, the only valid positional argument will be `data`, and passing other arguments without an explicit keyword will result in an error or misinterpretation.\n",
            "  FutureWarning\n"
          ],
          "name": "stderr"
        },
        {
          "output_type": "execute_result",
          "data": {
            "text/plain": [
              "<matplotlib.axes._subplots.AxesSubplot at 0x7f71690cd210>"
            ]
          },
          "metadata": {
            "tags": []
          },
          "execution_count": 34
        },
        {
          "output_type": "display_data",
          "data": {
            "image/png": "[encoded data removed]",
            "text/plain": [
              "<Figure size 432x288 with 1 Axes>"
            ]
          },
          "metadata": {
            "tags": [],
            "needs_background": "light"
          }
        }
      ]
    },
    {
      "cell_type": "code",
      "metadata": {
        "colab": {
          "base_uri": "https://localhost:8080/",
          "height": 352
        },
        "id": "P0zvCCWEe5O4",
        "outputId": "96ee3f59-92e2-4223-f9c3-467804feeb13"
      },
      "source": [
        "plt.title(\"Validation\")\n",
        "sns.countplot(y_val)"
      ],
      "execution_count": 35,
      "outputs": [
        {
          "output_type": "stream",
          "text": [
            "/usr/local/lib/python3.7/dist-packages/seaborn/_decorators.py:43: FutureWarning: Pass the following variable as a keyword arg: x. From version 0.12, the only valid positional argument will be `data`, and passing other arguments without an explicit keyword will result in an error or misinterpretation.\n",
            "  FutureWarning\n"
          ],
          "name": "stderr"
        },
        {
          "output_type": "execute_result",
          "data": {
            "text/plain": [
              "<matplotlib.axes._subplots.AxesSubplot at 0x7f7168dd3fd0>"
            ]
          },
          "metadata": {
            "tags": []
          },
          "execution_count": 35
        },
        {
          "output_type": "display_data",
          "data": {
            "image/png": "[encoded data removed]",
            "text/plain": [
              "<Figure size 432x288 with 1 Axes>"
            ]
          },
          "metadata": {
            "tags": [],
            "needs_background": "light"
          }
        }
      ]
    },
    {
      "cell_type": "code",
      "metadata": {
        "colab": {
          "base_uri": "https://localhost:8080/",
          "height": 352
        },
        "id": "x-tNovCHek1f",
        "outputId": "7ef89e7b-0673-4c26-c441-9044b16225b2"
      },
      "source": [
        "plt.title(\"Test\")\n",
        "sns.countplot(y_test)"
      ],
      "execution_count": 36,
      "outputs": [
        {
          "output_type": "stream",
          "text": [
            "/usr/local/lib/python3.7/dist-packages/seaborn/_decorators.py:43: FutureWarning: Pass the following variable as a keyword arg: x. From version 0.12, the only valid positional argument will be `data`, and passing other arguments without an explicit keyword will result in an error or misinterpretation.\n",
            "  FutureWarning\n"
          ],
          "name": "stderr"
        },
        {
          "output_type": "execute_result",
          "data": {
            "text/plain": [
              "<matplotlib.axes._subplots.AxesSubplot at 0x7f7168dd3cd0>"
            ]
          },
          "metadata": {
            "tags": []
          },
          "execution_count": 36
        },
        {
          "output_type": "display_data",
          "data": {
            "image/png": "[encoded data removed]",
            "text/plain": [
              "<Figure size 432x288 with 1 Axes>"
            ]
          },
          "metadata": {
            "tags": [],
            "needs_background": "light"
          }
        }
      ]
    },
    {
      "cell_type": "code",
      "metadata": {
        "colab": {
          "base_uri": "https://localhost:8080/"
        },
        "id": "OJVronq-etzu",
        "outputId": "f915a626-cc8b-4cc8-922f-18687112c4f2"
      },
      "source": [
        "#1q)\n",
        "model = Sequential()\n",
        "model.add(Flatten())\n",
        "model.add(Dense(1,input_shape=(784,), activation='sigmoid'))\n",
        "\n",
        "model.compile(optimizer='sgd',loss='binary_crossentropy', metrics=[\"accuracy\"])\n",
        "\n",
        "#model.save_weights('modelinit.h5')\n",
        "#model.load_weights('modelinit.h5')\n",
        "\n",
        "hist = model.fit(X_train, y_train,epochs=10,validation_data=(X_val, y_val))"
      ],
      "execution_count": 37,
      "outputs": [
        {
          "output_type": "stream",
          "text": [
            "Epoch 1/10\n",
            "60/60 [==============================] - 1s 4ms/step - loss: 652.8469 - accuracy: 0.7711 - val_loss: 14758.2305 - val_accuracy: 0.2765\n",
            "Epoch 2/10\n",
            "60/60 [==============================] - 0s 2ms/step - loss: 1577.3558 - accuracy: 0.8271 - val_loss: 143.0518 - val_accuracy: 0.9314\n",
            "Epoch 3/10\n",
            "60/60 [==============================] - 0s 2ms/step - loss: 119.2472 - accuracy: 0.9203 - val_loss: 2013.0846 - val_accuracy: 0.5725\n",
            "Epoch 4/10\n",
            "60/60 [==============================] - 0s 2ms/step - loss: 361.8887 - accuracy: 0.8689 - val_loss: 141.8442 - val_accuracy: 0.9235\n",
            "Epoch 5/10\n",
            "60/60 [==============================] - 0s 2ms/step - loss: 99.7227 - accuracy: 0.9197 - val_loss: 167.6443 - val_accuracy: 0.9118\n",
            "Epoch 6/10\n",
            "60/60 [==============================] - 0s 2ms/step - loss: 72.9987 - accuracy: 0.9429 - val_loss: 296.6476 - val_accuracy: 0.8627\n",
            "Epoch 7/10\n",
            "60/60 [==============================] - 0s 2ms/step - loss: 125.7582 - accuracy: 0.9131 - val_loss: 127.7585 - val_accuracy: 0.9196\n",
            "Epoch 8/10\n",
            "60/60 [==============================] - 0s 2ms/step - loss: 65.9221 - accuracy: 0.9349 - val_loss: 132.3387 - val_accuracy: 0.9255\n",
            "Epoch 9/10\n",
            "60/60 [==============================] - 0s 2ms/step - loss: 64.1709 - accuracy: 0.9301 - val_loss: 3651.5920 - val_accuracy: 0.4196\n",
            "Epoch 10/10\n",
            "60/60 [==============================] - 0s 2ms/step - loss: 283.9040 - accuracy: 0.8872 - val_loss: 139.7302 - val_accuracy: 0.9216\n"
          ],
          "name": "stdout"
        }
      ]
    },
    {
      "cell_type": "code",
      "metadata": {
        "colab": {
          "base_uri": "https://localhost:8080/",
          "height": 295
        },
        "id": "dDROampYf3V-",
        "outputId": "277d0ab0-6f77-402b-cca8-a9deb84a5b15"
      },
      "source": [
        "# Plot train vs test accuracy per epoch\n",
        "plt.figure()\n",
        "# Use the history metrics\n",
        "plt.plot(hist.history['accuracy'])\n",
        "plt.plot(hist.history['val_accuracy'])\n",
        "# Make it pretty\n",
        "plt.title('Model accuracy')\n",
        "plt.ylabel('Accuracy')\n",
        "plt.xlabel('Epoch')\n",
        "plt.legend(['Train', 'Val'])\n",
        "plt.show()"
      ],
      "execution_count": 38,
      "outputs": [
        {
          "output_type": "display_data",
          "data": {
            "image/png": "[encoded data removed]",
            "text/plain": [
              "<Figure size 432x288 with 1 Axes>"
            ]
          },
          "metadata": {
            "tags": [],
            "needs_background": "light"
          }
        }
      ]
    },
    {
      "cell_type": "code",
      "metadata": {
        "colab": {
          "base_uri": "https://localhost:8080/",
          "height": 295
        },
        "id": "YNa2RqrggKaJ",
        "outputId": "b57f83d9-ea7d-4b99-8666-1f5ed8f1f3dc"
      },
      "source": [
        "# Plot train vs test accuracy per epoch\n",
        "plt.figure()\n",
        "# Use the history metrics\n",
        "plt.plot(hist.history['loss'])\n",
        "plt.plot(hist.history['val_loss'])\n",
        "# Make it pretty\n",
        "plt.title('Model loss')\n",
        "plt.ylabel('Loss')\n",
        "plt.xlabel('Epoch')\n",
        "plt.legend(['Train', 'Val'])\n",
        "plt.show()"
      ],
      "execution_count": 39,
      "outputs": [
        {
          "output_type": "display_data",
          "data": {
            "image/png": "[encoded data removed]",
            "text/plain": [
              "<Figure size 432x288 with 1 Axes>"
            ]
          },
          "metadata": {
            "tags": [],
            "needs_background": "light"
          }
        }
      ]
    },
    {
      "cell_type": "code",
      "metadata": {
        "colab": {
          "base_uri": "https://localhost:8080/"
        },
        "id": "JlEHT9ppgOiW",
        "outputId": "789d7357-90d1-43f9-ec56-9ee65415e695"
      },
      "source": [
        "preds = model.predict(X_train)\n",
        "preds = (preds > 0.5).astype(int)\n",
        "confusion_matrix(y_train, preds)"
      ],
      "execution_count": 40,
      "outputs": [
        {
          "output_type": "execute_result",
          "data": {
            "text/plain": [
              "array([[1282,   61],\n",
              "       [  28,  519]])"
            ]
          },
          "metadata": {
            "tags": []
          },
          "execution_count": 40
        }
      ]
    },
    {
      "cell_type": "code",
      "metadata": {
        "colab": {
          "base_uri": "https://localhost:8080/"
        },
        "id": "wtUeDsKdg1G9",
        "outputId": "4e1522c0-abed-40a6-abf1-c7f0265b5b34"
      },
      "source": [
        "from sklearn.metrics import classification_report\n",
        "target_names = [\"0\", \"1\"]\n",
        "print(classification_report(y_train, preds, target_names=target_names))"
      ],
      "execution_count": 41,
      "outputs": [
        {
          "output_type": "stream",
          "text": [
            "              precision    recall  f1-score   support\n",
            "\n",
            "           0       0.98      0.95      0.97      1343\n",
            "           1       0.89      0.95      0.92       547\n",
            "\n",
            "    accuracy                           0.95      1890\n",
            "   macro avg       0.94      0.95      0.94      1890\n",
            "weighted avg       0.95      0.95      0.95      1890\n",
            "\n"
          ],
          "name": "stdout"
        }
      ]
    },
    {
      "cell_type": "markdown",
      "metadata": {
        "id": "Q8QRcKxgheRF"
      },
      "source": [
        "#1r) Es kann eine ROC Kurve erstellt werden, weil:  \n",
        "-> es gibt False Positives  \n",
        "-> es gibt True Positives  \n",
        "-> es existieren nur 2 Klassen  \n",
        "-> es handelt sich um einen binären Klassifizierer"
      ]
    },
    {
      "cell_type": "code",
      "metadata": {
        "id": "gks-vOr8h0pK"
      },
      "source": [
        "from sklearn import metrics\n",
        "preds_test = model.predict(X_test)\n",
        "#preds_test = (preds_test > 0.5).astype(int)\n",
        "fpr, tpr, thresholds = metrics.roc_curve(y_test, preds_test, pos_label=1)"
      ],
      "execution_count": 46,
      "outputs": []
    },
    {
      "cell_type": "code",
      "metadata": {
        "colab": {
          "base_uri": "https://localhost:8080/",
          "height": 298
        },
        "id": "RSoMfur_i5qB",
        "outputId": "a3ba2379-113e-462b-908d-98325070703e"
      },
      "source": [
        "plt.plot(fpr, tpr)\n",
        "plt.title(\"ROC\")"
      ],
      "execution_count": 47,
      "outputs": [
        {
          "output_type": "execute_result",
          "data": {
            "text/plain": [
              "Text(0.5, 1.0, 'ROC')"
            ]
          },
          "metadata": {
            "tags": []
          },
          "execution_count": 47
        },
        {
          "output_type": "display_data",
          "data": {
            "image/png": "[encoded data removed]",
            "text/plain": [
              "<Figure size 432x288 with 1 Axes>"
            ]
          },
          "metadata": {
            "tags": [],
            "needs_background": "light"
          }
        }
      ]
    },
    {
      "cell_type": "code",
      "metadata": {
        "colab": {
          "base_uri": "https://localhost:8080/"
        },
        "id": "6IuosEayi-Vz",
        "outputId": "e2f2dd2c-15fb-48b2-c42a-4d67e4884651"
      },
      "source": [
        "from sklearn.metrics import roc_auc_score\n",
        "roc_auc_score(y_test, preds_test)"
      ],
      "execution_count": 48,
      "outputs": [
        {
          "output_type": "execute_result",
          "data": {
            "text/plain": [
              "0.9373798846893017"
            ]
          },
          "metadata": {
            "tags": []
          },
          "execution_count": 48
        }
      ]
    },
    {
      "cell_type": "markdown",
      "metadata": {
        "id": "Ok104XJ2jdiF"
      },
      "source": [
        "#1s) Der Brier Score mit dem aktuellen Stand der Predicion nicht verwendet werden, weil der Brier Score die vorhergesagten Wahrscheinlichkeiten benötigt. Momentan sind die Predictions als die entsprechende Klasse vorhanden. Man könnte den Brier Score verwenden, wenn wir die Ausgabe der Prediction anpassen würden. "
      ]
    }
  ]
}